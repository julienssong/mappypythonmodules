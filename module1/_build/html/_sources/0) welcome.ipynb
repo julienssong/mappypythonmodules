{
 "cells": [
  {
   "cell_type": "markdown",
   "metadata": {},
   "source": [
    "# Welcome to Module 1: Spatial Thinking in Decision Making\n",
    "\n",
    "<!-- <div align=\"center\">\n",
    "    <video width=\"500\" height=\"500\" \n",
    "       src=\"tryvideo1.mp4\"  \n",
    "       controls>\n",
    "    </video>\n",
    "</div> -->\n",
    "<video controls style=\"max-width: 80%; height: auto; display: block; margin: auto;\">\n",
    "    <!-- <source src=\"_build/html/_static/tryvideo1.mp4\" type=\"video/mp4\"> -->\n",
    "    <source src=\"/Users/juliensong/Desktop/mappypythonmodules/module1/_build/html/_static/video1.mp4\" type=\"video/mp4\">\n",
    "    <!-- <source src=\"_build/html/_static/tryvideo1.mp4\" type=\"video/mp4\"> -->\n",
    "</video>\n",
    "\n",
    "<!-- <div style=\"display: flex; justify-content: center;\">\n",
    "<div align=\"center\">\n",
    "<div style=\"position: relative; padding-bottom: 56.25%;\">\n",
    "        <video\n",
    "       src=\"testvideo.mp4\"  \n",
    "       controls>\n",
    "    </video>\n",
    "</div> -->\n",
    "\n",
    "<!-- <div style=\"display: flex; justify-content: center;\">\n",
    "    <div style=\"position: relative; width: 70%; height: 0; padding-bottom: 56.25%;\">\n",
    "        <iframe\n",
    "            src=\"testvideo.mp4\"\n",
    "            style=\"position: absolute; top: 0; left: 0; width: 100%; height: 100%;\"\n",
    "            frameborder=\"0\"\n",
    "            allow=\"accelerometer; autoplay; clipboard-write; encrypted-media; gyroscope; picture-in-picture\"\n",
    "            allowfullscreen\n",
    "        ></iframe>\n",
    "</div>\n",
    "</div> -->\n",
    "\n",
    "<br>\n",
    "\n",
    "Let's learn about spatial thinking!"
   ]
  }
 ],
 "metadata": {
  "language_info": {
   "name": "python"
  }
 },
 "nbformat": 4,
 "nbformat_minor": 2
}
