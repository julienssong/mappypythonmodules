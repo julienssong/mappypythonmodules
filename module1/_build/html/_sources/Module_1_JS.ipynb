{
 "cells": [
  {
   "cell_type": "markdown",
   "metadata": {},
   "source": [
    "# Welcome to Module 1: Spatial Thinking in Decision Making\n",
    "\n",
    "<video controls style=\"max-width: 80%; height: auto; display: block; margin: auto;\">\n",
    "    <source src=\"/Users/juliensong/Desktop/mappypythonmodules/module1/_build/html/_static/video1.mp4\" type=\"video/mp4\">\n",
    "    <!-- <source src=\"_build/html/_static/tryvideo1.mp4\" type=\"video/mp4\"> -->\n",
    "    <!-- <track src=\"video1_caption.vtt\" kind=\"subtitles\" srclang=\"en\" label=\"English\"> -->\n",
    "    <track src=\"/Users/juliensong/Desktop/mappypythonmodules/module1/_build/html/_static/video1_captions.vtt\"\n",
    "           kind=\"subtitles\" srclang=\"en\" label=\"English\">\n",
    "</video> \n",
    "\n",
    "<br>\n",
    "\n",
    "Let's learn about spatial thinking!"
   ]
  },
  {
   "cell_type": "markdown",
   "metadata": {},
   "source": [
    "# What is Special about Spatial Thinking in Decision Making?\n",
    "\n",
    "<!-- <img src=\"image1.png\" align=\"right\" width=\"300px\"/> -->\n",
    "<!-- <img src=\"../_static/my_image.png\" style=\"float: right; width: 50%; height: auto; margin-left: 10px;\"> -->\n",
    "<img src=\"/Users/juliensong/Desktop/mappypythonmodules/module1/_build/html/_static/image1.png\" style=\"float: right; width: 50%; height: auto; margin-left: 10px;\">\n",
    "<!-- <img src=\"_build/html/_static/image1.png\" style=\"float: right; width: 40%; height: auto; margin-left: 10px;\"> -->\n",
    "\n",
    "We make decisions all the time—and guess what? Most of them are tied to where something happens. Some choices are simple and short-lived, like deciding, “Where should I grab lunch today?” Sure, it seems trivial—unless you bump into your all-time favorite actor during your meal. In that case, your decision about lunch could become a story you tell for the rest of your life! \n",
    "\n",
    "Other decisions, like figuring out “What’s the most energy-efficient route from home to campus?” have broader implications. They might reduce your carbon footprint, save you money, or even inspire others to make more environmentally conscious choices.\n",
    "<br clear=\"right\"/>\n",
    "Since we’re already making location-based decisions daily, why not learn how to make them more efficient, informed… and dare we say, fun? Let’s dive into the world of spatial thinking and reasoning to level up your decision-making skills."
   ]
  },
  {
   "cell_type": "markdown",
   "metadata": {},
   "source": [
    "# What is Spatial Thinking, Anyway?\n",
    "\n",
    "Spatial thinking is like having a superhero power—it helps us see and understand the world in ways that aren’t always obvious. According to the [National Research Council of the National Academies](https://www.nap.edu/catalog/11019/learning-to-think-spatially), spatial thinking is “a collection of cognitive skills” that enable us to:\n",
    "\n",
    "> **Understand space:** How objects relate to each other in the physical world.\n",
    "\n",
    "> **Express relationships:** Like recognizing how close two cities are or how a river winds through a landscape.\n",
    "\n",
    "> **Reason spatially:** Making sense of patterns, distributions, and connections in space.\n",
    "\n",
    "<!-- <img src=\"image2.jpg\" align=\"right\" width=\"200px\"/> -->\n",
    "<img src=\"/Users/juliensong/Desktop/mappypythonmodules/module1/_build/html/_static/image2.jpg\" style=\"float: right; width: 40%; height: auto; margin-left: 10px;\">\n",
    "<!-- <img src=\"_build/html/_static/image2.jpg\" style=\"float: right; width: 20%; height: auto; margin-left: 10px;\"> -->\n",
    "\n",
    "And here’s the cool part: you’ve been using spatial thinking since you were a toddler! Remember those shape-sorting toys with blocks and matching holes? That was your first lesson in dimensions, continuity, proximity, and separation. (Look at you, a spatial thinker before you could even tie your shoes!)\n",
    "\n",
    "Fast forward to today, and those same spatial thinking skills are at work when you recognize the patterns in a city map, plan a hiking route through winding trails, or evaluate the layout of your neighborhood."
   ]
  },
  {
   "cell_type": "markdown",
   "metadata": {},
   "source": [
    "# The Role of Maps in Spatial Thinking\n",
    "\n",
    "Maps are like cheat sheets for spatial reasoning. They take abstract ideas—like road density or population clusters—and turn them into something we can see, analyze, and understand at a glance.\n",
    "\n",
    "<!-- <img src=\"image3.png\" align=\"right\" width=\"300px\"/> -->\n",
    "<img src=\"/Users/juliensong/Desktop/mappypythonmodules/module1/_build/html/_static/image3.png\" style=\"float: right; width: 50%; height: auto; margin-left: 10px;\">\n",
    "<!-- <img src=\"_build/html/_static/image3.png\" style=\"float: right; width: 30%; height: auto; margin-left: 10px;\"> -->\n",
    "Take this map of road density in the United States (imagine it in vibrant colors). Can you spot the areas with the busiest networks? Maps like this don’t just show data; they tell stories about human activity, connectivity, and even challenges like congestion or environmental impact.\n",
    "\n",
    "By using maps, we can:\n",
    "\n",
    "- **Identify patterns:** Why do some areas have dense networks while others are more remote?\n",
    "- **Understand relationships:** How do road densities affect things like traffic, pollution, or access to services?\n",
    "- **Communicate effectively**: A map can explain complex ideas in seconds—no lengthy paragraphs required."
   ]
  },
  {
   "cell_type": "markdown",
   "metadata": {},
   "source": [
    "# Why Spatial Thinking Matters in Decision-Making\n",
    "\n",
    "Spatial thinking isn’t just about solving puzzles or reading maps. It’s a cornerstone of smart decision-making. Whether it’s urban planning, environmental conservation, or figuring out where to park, spatial reasoning helps us weigh options and make choices that matter.\n",
    "\n",
    "And here’s the fun part: learning to think spatially is like adding a turbo boost to your decision-making skills. It’s practical, fascinating, and once you start seeing the world this way, you’ll wonder how you ever made decisions without it.\n",
    "\n",
    "So, are you ready to think spatially? Let’s unlock your inner map-maker and problem-solver—because the world is full of patterns waiting to be discovered, and you’re the perfect person to find them."
   ]
  },
  {
   "cell_type": "markdown",
   "metadata": {},
   "source": [
    "# Hands-On Activity: Proximity Calculation with Python\n",
    "Let’s calculate distances between two points using Python! Here’s an easy example to try:"
   ]
  },
  {
   "cell_type": "code",
   "execution_count": 3,
   "metadata": {},
   "outputs": [],
   "source": [
    "# Coordinates of two locations (x1, y1) and (x2, y2)\n",
    "x1, y1 = 2, 3  # Example: a park\n",
    "x2, y2 = 5, 7  # Example: a neighborhood"
   ]
  },
  {
   "cell_type": "code",
   "execution_count": 4,
   "metadata": {},
   "outputs": [
    {
     "name": "stdout",
     "output_type": "stream",
     "text": [
      "The distance is 5.00 units.\n"
     ]
    }
   ],
   "source": [
    "# Calculate the distance\n",
    "distance = ((x2 - x1)**2 + (y2 - y1)**2)**0.5\n",
    "print(f\"The distance is {distance:.2f} units.\")"
   ]
  },
  {
   "cell_type": "markdown",
   "metadata": {},
   "source": [
    "**What Does This Do?**\n",
    "1) Defines two points in a 2D space.\n",
    "2) Uses the Pythagorean theorem to calculate the straight-line distance.\n",
    "3) Outputs the result."
   ]
  },
  {
   "cell_type": "markdown",
   "metadata": {},
   "source": [
    "# Advanced: Proximity of Schools to Your House\n",
    "\n",
    "Let’s use Python and real-world data to calculate the proximity of schools to your home! This activity will help you practice spatial thinking with data relevant to your own neighborhood.\n"
   ]
  },
  {
   "cell_type": "markdown",
   "metadata": {},
   "source": [
    "Step 1: Gather Your Data\n",
    "Go to a public GIS platform or open a data portal for your city. Many cities provide datasets of school locations with latitude and longitude.\n",
    "Identify the coordinates of your home (e.g., using Google Maps)."
   ]
  },
  {
   "cell_type": "markdown",
   "metadata": {},
   "source": [
    "Step 2: Install Required Libraries\n",
    "You'll need:\n",
    "- *pandas* for handling tabular data.\n",
    "- *geopy* for calculating distances"
   ]
  },
  {
   "cell_type": "code",
   "execution_count": 5,
   "metadata": {},
   "outputs": [
    {
     "ename": "SyntaxError",
     "evalue": "invalid syntax (201423621.py, line 1)",
     "output_type": "error",
     "traceback": [
      "\u001b[0;36m  Cell \u001b[0;32mIn[5], line 1\u001b[0;36m\u001b[0m\n\u001b[0;31m    pip install pandas geopy\u001b[0m\n\u001b[0m        ^\u001b[0m\n\u001b[0;31mSyntaxError\u001b[0m\u001b[0;31m:\u001b[0m invalid syntax\n"
     ]
    }
   ],
   "source": [
    "pip install pandas geopy\n",
    "from geopy.distance import geodesic\n",
    "import pandas as pd\n",
    "\n",
    "# Example: Coordinates of your house\n",
    "home_coords = (41.8240, -71.4128)  # Replace with your home's latitude and longitude\n",
    "\n",
    "# Example: School locations (latitude, longitude)\n",
    "data = {\n",
    "    'School': ['School A', 'School B', 'School C'],\n",
    "    'Latitude': [41.8201, 41.8215, 41.8250],\n",
    "    'Longitude': [-71.4153, -71.4145, -71.4102]\n",
    "}\n",
    "\n",
    "# Create a DataFrame\n",
    "schools = pd.DataFrame(data)\n",
    "\n",
    "# Calculate distances to each school\n",
    "schools['Distance (km)'] = schools.apply(\n",
    "    lambda row: geodesic(home_coords, (row['Latitude'], row['Longitude'])).km, axis=1\n",
    ")\n",
    "\n",
    "# Sort by distance\n",
    "schools = schools.sort_values('Distance (km)')\n",
    "\n",
    "# Print results\n",
    "print(schools[['School', 'Distance (km)']])"
   ]
  },
  {
   "cell_type": "markdown",
   "metadata": {},
   "source": [
    "This script calculates and sorts the distances from your home to each school. The output will list the schools in ascending order of proximity."
   ]
  },
  {
   "cell_type": "markdown",
   "metadata": {},
   "source": [
    "**Challenge:**\n",
    "- Add more locations, like parks or grocery stores.\n",
    "- Visualize the data on a map using a library like *folium* or *matplotlib*.\n",
    "- Discuss how proximity impacts decisions, such as where to enroll children or choose a home.\n"
   ]
  }
 ],
 "metadata": {
  "kernelspec": {
   "display_name": "Python 3",
   "language": "python",
   "name": "python3"
  },
  "language_info": {
   "codemirror_mode": {
    "name": "ipython",
    "version": 3
   },
   "file_extension": ".py",
   "mimetype": "text/x-python",
   "name": "python",
   "nbconvert_exporter": "python",
   "pygments_lexer": "ipython3",
   "version": "3.13.0"
  }
 },
 "nbformat": 4,
 "nbformat_minor": 2
}
