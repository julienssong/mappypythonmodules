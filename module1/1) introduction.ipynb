{
 "cells": [
  {
   "cell_type": "markdown",
   "metadata": {},
   "source": [
    "# What is Special about Spatial Thinking in Decision Making?\n",
    "\n",
    "<!-- <img src=\"image1.png\" align=\"right\" width=\"300px\"/> -->\n",
    "<!-- <img src=\"../_static/my_image.png\" style=\"float: right; width: 50%; height: auto; margin-left: 10px;\"> -->\n",
    "<img src=\"/Users/juliensong/Desktop/mappypythonmodules/module1/_build/html/_static/image1.png\" style=\"float: right; width: 50%; height: auto; margin-left: 10px;\">\n",
    "<!-- <img src=\"_build/html/_static/image1.png\" style=\"float: right; width: 40%; height: auto; margin-left: 10px;\"> -->\n",
    "\n",
    "We make decisions all the time—and guess what? Most of them are tied to where something happens. Some choices are simple and short-lived, like deciding, “Where should I grab lunch today?” Sure, it seems trivial—unless you bump into your all-time favorite actor during your meal. In that case, your decision about lunch could become a story you tell for the rest of your life! \n",
    "\n",
    "Other decisions, like figuring out “What’s the most energy-efficient route from home to campus?” have broader implications. They might reduce your carbon footprint, save you money, or even inspire others to make more environmentally conscious choices.\n",
    "<br clear=\"right\"/>\n",
    "Since we’re already making location-based decisions daily, why not learn how to make them more efficient, informed… and dare we say, fun? Let’s dive into the world of spatial thinking and reasoning to level up your decision-making skills."
   ]
  }
 ],
 "metadata": {
  "language_info": {
   "name": "python"
  }
 },
 "nbformat": 4,
 "nbformat_minor": 2
}
