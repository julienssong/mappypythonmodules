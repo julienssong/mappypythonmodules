{
 "cells": [
  {
   "cell_type": "markdown",
   "metadata": {},
   "source": [
    "# What is Spatial Thinking, Anyway?\n",
    "\n",
    "Spatial thinking is like having a superhero power—it helps us see and understand the world in ways that aren’t always obvious. According to the [National Research Council of the National Academies](https://www.nap.edu/catalog/11019/learning-to-think-spatially), spatial thinking is “a collection of cognitive skills” that enable us to:\n",
    "<br>\n",
    "> **Understand space:** How objects relate to each other in the physical world.\n",
    "<br>\n",
    "> **Express relationships:** Like recognizing how close two cities are or how a river winds through a landscape.\n",
    "<br>\n",
    "> **Reason spatially:** Making sense of patterns, distributions, and connections in space.\n",
    "\n",
    "<img src=\"img2.jpg\" align=\"right\" width=\"200px\"/>\n",
    "And here’s the cool part: you’ve been using spatial thinking since you were a toddler! Remember those shape-sorting toys with blocks and matching holes? That was your first lesson in dimensions, continuity, proximity, and separation. (Look at you, a spatial thinker before you could even tie your shoes!)\n",
    "\n",
    "Fast forward to today, and those same spatial thinking skills are at work when you recognize the patterns in a city map, plan a hiking route through winding trails, or evaluate the layout of your neighborhood."
   ]
  }
 ],
 "metadata": {
  "language_info": {
   "name": "python"
  }
 },
 "nbformat": 4,
 "nbformat_minor": 2
}
