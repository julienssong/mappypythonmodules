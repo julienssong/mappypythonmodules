{
 "cells": [
  {
   "cell_type": "markdown",
   "metadata": {},
   "source": [
    "# Advanced: Proximity of Schools to Your House\n",
    "\n",
    "Let’s use Python and real-world data to calculate the proximity of schools to your home! This activity will help you practice spatial thinking with data relevant to your own neighborhood.\n"
   ]
  },
  {
   "cell_type": "markdown",
   "metadata": {},
   "source": [
    "Step 1: Gather Your Data\n",
    "Go to a public GIS platform or open a data portal for your city. Many cities provide datasets of school locations with latitude and longitude.\n",
    "Identify the coordinates of your home (e.g., using Google Maps)."
   ]
  },
  {
   "cell_type": "markdown",
   "metadata": {},
   "source": [
    "Step 2: Install Required Libraries\n",
    "You'll need:\n",
    "- *pandas* for handling tabular data.\n",
    "- *geopy* for calculating distances"
   ]
  },
  {
   "cell_type": "code",
   "execution_count": null,
   "metadata": {
    "vscode": {
     "languageId": "plaintext"
    }
   },
   "outputs": [],
   "source": [
    "pip install pandas geopy\n",
    "from geopy.distance import geodesic\n",
    "import pandas as pd\n",
    "\n",
    "# Example: Coordinates of your house\n",
    "home_coords = (41.8240, -71.4128)  # Replace with your home's latitude and longitude\n",
    "\n",
    "# Example: School locations (latitude, longitude)\n",
    "data = {\n",
    "    'School': ['School A', 'School B', 'School C'],\n",
    "    'Latitude': [41.8201, 41.8215, 41.8250],\n",
    "    'Longitude': [-71.4153, -71.4145, -71.4102]\n",
    "}\n",
    "\n",
    "# Create a DataFrame\n",
    "schools = pd.DataFrame(data)\n",
    "\n",
    "# Calculate distances to each school\n",
    "schools['Distance (km)'] = schools.apply(\n",
    "    lambda row: geodesic(home_coords, (row['Latitude'], row['Longitude'])).km, axis=1\n",
    ")\n",
    "\n",
    "# Sort by distance\n",
    "schools = schools.sort_values('Distance (km)')\n",
    "\n",
    "# Print results\n",
    "print(schools[['School', 'Distance (km)']])"
   ]
  },
  {
   "cell_type": "markdown",
   "metadata": {},
   "source": [
    "This script calculates and sorts the distances from your home to each school. The output will list the schools in ascending order of proximity."
   ]
  },
  {
   "cell_type": "markdown",
   "metadata": {},
   "source": [
    "**Challenge:**\n",
    "- Add more locations, like parks or grocery stores.\n",
    "- Visualize the data on a map using a library like *folium* or *matplotlib*.\n",
    "- Discuss how proximity impacts decisions, such as where to enroll children or choose a home.\n"
   ]
  }
 ],
 "metadata": {
  "language_info": {
   "name": "python"
  }
 },
 "nbformat": 4,
 "nbformat_minor": 2
}
